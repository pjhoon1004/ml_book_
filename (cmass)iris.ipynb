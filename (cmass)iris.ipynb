{
  "nbformat": 4,
  "nbformat_minor": 0,
  "metadata": {
    "colab": {
      "name": "(cmass)iris.ipynb",
      "provenance": [],
      "authorship_tag": "ABX9TyN5BnNhfYRUBxyETs3ctun0",
      "include_colab_link": true
    },
    "kernelspec": {
      "name": "python3",
      "display_name": "Python 3"
    },
    "language_info": {
      "name": "python"
    }
  },
  "cells": [
    {
      "cell_type": "markdown",
      "metadata": {
        "id": "view-in-github",
        "colab_type": "text"
      },
      "source": [
        "<a href=\"https://colab.research.google.com/github/pjhoon1004/ml_book_/blob/main/(cmass)iris.ipynb\" target=\"_parent\"><img src=\"https://colab.research.google.com/assets/colab-badge.svg\" alt=\"Open In Colab\"/></a>"
      ]
    },
    {
      "cell_type": "markdown",
      "source": [
        "##데이터 불러오기"
      ],
      "metadata": {
        "id": "PoPWTSyxhr_i"
      }
    },
    {
      "cell_type": "code",
      "source": [
        "from google.colab import files\n",
        "filename = list(files.upload().keys())[0]"
      ],
      "metadata": {
        "id": "vIt17HdQXkIk"
      },
      "execution_count": null,
      "outputs": []
    },
    {
      "cell_type": "code",
      "source": [
        "import pandas as pd\n",
        "iris_data = pd.read_csv(filename) \n",
        "iris_data.head(5)"
      ],
      "metadata": {
        "id": "it4S36E4XosT"
      },
      "execution_count": null,
      "outputs": []
    },
    {
      "cell_type": "code",
      "source": [
        "iris_data.info()"
      ],
      "metadata": {
        "id": "mjH3pxRdiXXx"
      },
      "execution_count": null,
      "outputs": []
    },
    {
      "cell_type": "code",
      "source": [
        "iris_data['Species'].value_counts()"
      ],
      "metadata": {
        "id": "05gqR53xYKqk"
      },
      "execution_count": null,
      "outputs": []
    },
    {
      "cell_type": "code",
      "source": [
        "iris_data.describe()"
      ],
      "metadata": {
        "id": "Qb1_r6xgZXVi"
      },
      "execution_count": null,
      "outputs": []
    },
    {
      "cell_type": "code",
      "source": [
        "import matplotlib.pyplot as plt\n",
        "import seaborn as sns\n",
        "sns.countplot(x='Species',data=iris_data)\n",
        "plt.title('iris class')\n",
        "plt.show()"
      ],
      "metadata": {
        "id": "0v2J2v2pDKyl"
      },
      "execution_count": null,
      "outputs": []
    },
    {
      "cell_type": "code",
      "source": [
        "sns.pairplot(data = iris_data, hue='Species')"
      ],
      "metadata": {
        "id": "xkyIc98Nwe0r"
      },
      "execution_count": null,
      "outputs": []
    },
    {
      "cell_type": "code",
      "source": [
        "sns.pairplot(iris_data, hue='Species', corner=True)"
      ],
      "metadata": {
        "id": "eS1sr108G0HL"
      },
      "execution_count": null,
      "outputs": []
    },
    {
      "cell_type": "code",
      "source": [
        "sns.jointplot(x='PetalLengthCm', y='PetalWidthCm',data=iris_data, kind='scatter', hue='Species')"
      ],
      "metadata": {
        "id": "Rw1SAnayrnd6"
      },
      "execution_count": null,
      "outputs": []
    },
    {
      "cell_type": "markdown",
      "source": [
        "##데이터 탐색 및 전처리 하기(numpy로 실습)"
      ],
      "metadata": {
        "id": "wjAmN3YH8j5W"
      }
    },
    {
      "cell_type": "code",
      "source": [
        "import numpy as np\n",
        "np_iris_data = np.array(iris_data) # 판다스를 넘파이로 변환\n",
        "np_iris_data[:5,:] # 0~4번행, 전체열"
      ],
      "metadata": {
        "id": "o0zojh8G8Rb_"
      },
      "execution_count": null,
      "outputs": []
    },
    {
      "cell_type": "code",
      "source": [
        "# id와 label빼고 input variable 을 x_data에 저장\n",
        "x_data = np_iris_data[:, 0:4] # 행 전체, 열은 0부터 3까지\n",
        "y_data = np_iris_data[:, -1] # 행 전체, 열은 마지막 인덱스\n",
        "print(x_data[:3])\n",
        "print(y_data[:3])"
      ],
      "metadata": {
        "id": "wKE8muw68X9g"
      },
      "execution_count": null,
      "outputs": []
    },
    {
      "cell_type": "markdown",
      "source": [
        "##정규화"
      ],
      "metadata": {
        "id": "O22z5taCYtzd"
      }
    },
    {
      "cell_type": "code",
      "source": [
        "from sklearn.preprocessing import MinMaxScaler\n",
        "scaler = MinMaxScaler()\n",
        "scaler.fit(x_data) #[0,1] x_data의 최소값을 0, 최대값을 1로 셋팅\n",
        "scaled = scaler.transform(x_data)\n",
        "round(pd.DataFrame(scaled).describe(),2)"
      ],
      "metadata": {
        "id": "dgNcEEM8JGyu"
      },
      "execution_count": null,
      "outputs": []
    },
    {
      "cell_type": "markdown",
      "source": [
        "##표준화"
      ],
      "metadata": {
        "id": "LXutk_COYv5P"
      }
    },
    {
      "cell_type": "code",
      "source": [
        "from sklearn.preprocessing import StandardScaler\n",
        "std_scaler = StandardScaler()\n",
        "\n",
        "std_scaler.fit(x_data) \n",
        "std_x_data = std_scaler.transform(x_data)\n",
        "round(pd.DataFrame(std_x_data).describe(),2)"
      ],
      "metadata": {
        "id": "uo1IwR5zYyeI"
      },
      "execution_count": null,
      "outputs": []
    },
    {
      "cell_type": "code",
      "source": [
        "from sklearn.model_selection import train_test_split\n",
        "x_train, x_test, y_train, y_test = train_test_split(x_data, y_data, test_size = 0.3, random_state=11)\n",
        "print(x_train.shape, x_test.shape, y_train.shape, y_test.shape)"
      ],
      "metadata": {
        "id": "oVGDzlLQ84mg"
      },
      "execution_count": null,
      "outputs": []
    },
    {
      "cell_type": "markdown",
      "source": [
        "##모델 학습하기"
      ],
      "metadata": {
        "id": "WsUHV_-UA6KY"
      }
    },
    {
      "cell_type": "code",
      "source": [
        "from sklearn.neighbors import KNeighborsClassifier\n",
        "k = 3 # hyperparameter\n",
        "knn = KNeighborsClassifier(n_neighbors=k) #모델생성\n",
        "knn.fit(x_train, y_train) #모델학습"
      ],
      "metadata": {
        "id": "NlfzSYJCAxun"
      },
      "execution_count": null,
      "outputs": []
    },
    {
      "cell_type": "code",
      "source": [
        "predict = knn.predict(x_test)\n",
        "predict[:5]"
      ],
      "metadata": {
        "id": "q3jlllJhE30-"
      },
      "execution_count": null,
      "outputs": []
    },
    {
      "cell_type": "markdown",
      "source": [
        "##모델 테스트 및 평가하기"
      ],
      "metadata": {
        "id": "N7Bkz-wJdtBg"
      }
    },
    {
      "cell_type": "code",
      "source": [
        "from sklearn import metrics\n",
        "print('knn accuracy:{:.3f}'.format(knn.score(x_test,y_test)))\n",
        "#print('knn accuracy:{:.3f}'.format(metrics.accuracy_score(knn_pred, y_test)))"
      ],
      "metadata": {
        "id": "gz20AAYeBBJu"
      },
      "execution_count": null,
      "outputs": []
    },
    {
      "cell_type": "code",
      "source": [
        "# 시각화\n",
        "from sklearn.neighbors import KNeighborsClassifier\n",
        "import matplotlib.pyplot as plt\n",
        "\n",
        "k_range = range(1,31)\n",
        "scores = []\n",
        "\n",
        "for k in k_range:\n",
        "  knn = KNeighborsClassifier(n_neighbors = k)\n",
        "  knn.fit(x_train, y_train)\n",
        "  scores.append(knn.score(x_test, y_test))\n",
        "\n",
        "plt.plot(k_range, scores)\n",
        "plt.xlabel(\"value of k\")\n",
        "plt.ylabel(\"Accuracy Score\")\n",
        "plt.title(\"k-NN Accuracy score\")\n",
        "plt.show()"
      ],
      "metadata": {
        "id": "2Wk_x6OZBKtn"
      },
      "execution_count": null,
      "outputs": []
    },
    {
      "cell_type": "code",
      "source": [
        "for value ,score in enumerate(scores):\n",
        "    print('k={}일때 : accuracy:{}'.format(value+1,score))"
      ],
      "metadata": {
        "id": "xe6hyvTTBOT3"
      },
      "execution_count": null,
      "outputs": []
    },
    {
      "cell_type": "markdown",
      "source": [
        "##보충"
      ],
      "metadata": {
        "id": "uE1aMV3NA2Dm"
      }
    },
    {
      "cell_type": "code",
      "source": [
        "# 정규화\n",
        "import numpy as np\n",
        "height = [100,120,160,180]\n",
        "weight = [20,30,50,70]\n",
        "print(np.min(height), np.max(height)) \n",
        "print(np.min(weight), np.max(weight))\n",
        "\n",
        "for x in height:\n",
        "  print((x - min(height))/(np.max(height)-np.min(height)),end=' ')\n",
        "print()\n",
        "\n",
        "for x in weight:\n",
        "  print((x - min(weight))/(np.max(weight)-np.min(weight)),end=' ')"
      ],
      "metadata": {
        "id": "lds2PvHiA4O4"
      },
      "execution_count": null,
      "outputs": []
    },
    {
      "cell_type": "code",
      "source": [
        "# 표준화\n",
        "import numpy as np\n",
        "height = [100,120,160,180]\n",
        "weight = [20,30,50,70]\n",
        "print(np.mean(height), round(np.std(height),1)) \n",
        "print(np.mean(weight), round(np.std(weight),1))\n",
        "\n",
        "for x in height:\n",
        "  print(round((x - np.mean(height))/np.std(height),2),end=' ')\n",
        "print()\n",
        "\n",
        "for x in weight:\n",
        "  print(round((x - np.mean(weight))/np.std(weight),2),end=' ')"
      ],
      "metadata": {
        "id": "9wkHhg0WOMbV"
      },
      "execution_count": null,
      "outputs": []
    }
  ]
}